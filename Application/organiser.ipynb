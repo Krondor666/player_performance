{
 "cells": [
  {
   "cell_type": "markdown",
   "metadata": {},
   "source": [
    "## CS:GO Player Form Prediction"
   ]
  },
  {
   "cell_type": "code",
   "execution_count": 1,
   "metadata": {
    "collapsed": false
   },
   "outputs": [
    {
     "name": "stderr",
     "output_type": "stream",
     "text": [
      "WARNING (theano.configdefaults): g++ not detected ! Theano will be unable to execute optimized C-implementations (for both CPU and GPU) and will default to Python implementations. Performance will be severely degraded. To remove this warning, set Theano flags cxx to an empty string.\n"
     ]
    }
   ],
   "source": [
    "# Le standard python imports\n",
    "import pandas as pd\n",
    "import numpy as np\n",
    "import csv\n",
    "import theano as th\n",
    "\n",
    "from theano import tensor as T"
   ]
  },
  {
   "cell_type": "markdown",
   "metadata": {},
   "source": [
    "*Le data imports* \n",
    "\n",
    "Clearly you need to have the correct \"matchdata\" csv file in the same directory as this notebook..."
   ]
  },
  {
   "cell_type": "code",
   "execution_count": 2,
   "metadata": {
    "collapsed": false
   },
   "outputs": [
    {
     "name": "stderr",
     "output_type": "stream",
     "text": [
      "C:\\Users\\Max.Polaczuk\\AppData\\Local\\Continuum\\Anaconda3\\lib\\site-packages\\IPython\\core\\interactiveshell.py:2723: DtypeWarning: Columns (70,71,75) have mixed types. Specify dtype option on import or set low_memory=False.\n",
      "  interactivity=interactivity, compiler=compiler, result=result)\n"
     ]
    }
   ],
   "source": [
    "dat = pd.read_csv('matchdata.csv',encoding = \"ISO-8859-1\")"
   ]
  },
  {
   "cell_type": "markdown",
   "metadata": {},
   "source": [
    "### Variable Names...\n",
    "\n",
    "Here we can see a nice list of all the variables that our data gives us"
   ]
  },
  {
   "cell_type": "code",
   "execution_count": 3,
   "metadata": {
    "collapsed": false
   },
   "outputs": [
    {
     "data": {
      "text/plain": [
       "['Day',\n",
       " 'Match ID',\n",
       " 'Map',\n",
       " 'Team 1',\n",
       " 'Team 2',\n",
       " 'Winning Team',\n",
       " 'Score Team 1 as T',\n",
       " 'Score Team 2 as CT',\n",
       " 'Score Team 1 as CT',\n",
       " 'Score Team 2 as T',\n",
       " 'Player 1 Name',\n",
       " 'Player 1 UserName',\n",
       " 'Player 1 Kills',\n",
       " 'Player 1 Deaths',\n",
       " 'Player 1 KDA',\n",
       " 'Player 1 ADR',\n",
       " 'Player 2 Name',\n",
       " 'Player 2 UserName',\n",
       " 'Player 2 Kills',\n",
       " 'Player 2 Deaths',\n",
       " 'Player 2 KDA',\n",
       " 'Player 2 ADR',\n",
       " 'Player 3 Name',\n",
       " 'Player 3 UserName',\n",
       " 'Player 3 Kills',\n",
       " 'Player 3 Deaths',\n",
       " 'Player 3 KDA',\n",
       " 'Player 3 ADR',\n",
       " 'Player 4 Name',\n",
       " 'Player 4 UserName',\n",
       " 'Player 4 Kills',\n",
       " 'Player 4 Deaths',\n",
       " 'Player 4 KDA',\n",
       " 'Player 4 ADR',\n",
       " 'Player 5 Name',\n",
       " 'Player 5 UserName',\n",
       " 'Player 5 Kills',\n",
       " 'Player 5 Deaths',\n",
       " 'Player 5 KDA',\n",
       " 'Player 5 ADR',\n",
       " 'Player 6 Name',\n",
       " 'Player 6 UserName',\n",
       " 'Player 6 Kills',\n",
       " 'Player 6 Deaths',\n",
       " 'Player 6 KDA',\n",
       " 'Player 6 ADR',\n",
       " 'Player 7 Name',\n",
       " 'Player 7 UserName',\n",
       " 'Player 7 Kills',\n",
       " 'Player 7 Deaths',\n",
       " 'Player 7 KDA',\n",
       " 'Player 7 ADR',\n",
       " 'Player 8 Name',\n",
       " 'Player 8 UserName',\n",
       " 'Player 8 Kills',\n",
       " 'Player 8 Deaths',\n",
       " 'Player 8 KDA',\n",
       " 'Player 8 ADR',\n",
       " 'Player 9 Name',\n",
       " 'Player 9 UserName',\n",
       " 'Player 9 Kills',\n",
       " 'Player 9 Deaths',\n",
       " 'Player 9 KDA',\n",
       " 'Player 9 ADR',\n",
       " 'Player 10 Name',\n",
       " 'Player 10 UserName',\n",
       " 'Player 10 Kills',\n",
       " 'Player 10 Deaths',\n",
       " 'Player 10 KDA',\n",
       " 'Player 10 ADR',\n",
       " 'Unnamed: 70',\n",
       " 'Unnamed: 71',\n",
       " 'Unnamed: 72',\n",
       " 'Unnamed: 73',\n",
       " 'Unnamed: 74',\n",
       " 'Unnamed: 75']"
      ]
     },
     "execution_count": 3,
     "metadata": {},
     "output_type": "execute_result"
    }
   ],
   "source": [
    "list(dat.columns.values)"
   ]
  },
  {
   "cell_type": "code",
   "execution_count": 4,
   "metadata": {
    "collapsed": false
   },
   "outputs": [],
   "source": [
    "# Need a function that pulls out only a certain teams data:\n",
    "\n",
    "def team_data(team): # probably by index...\n",
    "    df = dat.loc[(dat.ix[:,3] == team) |  (dat.ix[:,4] == team) ]\n",
    "    return(df)\n",
    "\n",
    "# make a player data one...\n",
    "\n",
    "def player_data(player): # can define by indx later as well...\n",
    "    df = dat.loc[(dat.ix[:,11] == player) |  (dat.ix[:,17] == player)|  (dat.ix[:,23] == player)|  (dat.ix[:,29] == player)|  (dat.ix[:,35] == player)|  (dat.ix[:,41] == player) |  (dat.ix[:,47] == player) |  (dat.ix[:,53] == player) |  (dat.ix[:,59] == player) |  (dat.ix[:,65] == player)]\n",
    "    return(df)\n",
    "\n",
    "# make function that says which team a player is on (1 or 2)...\n",
    "def player_side(player, match): # match is the match # as integer\n",
    "\n",
    "    dato = player_data(player).reset_index(drop=True) \n",
    "    N = len(dato)\n",
    "    i = match\n",
    "    \n",
    "    side = []\n",
    "    # loop over each row...\n",
    "    if( (dato.ix[i,11] == player) |  (dato.ix[i,17] == player)|  (dato.ix[i,23] == player)|  (dato.ix[i,29] == player)|  (dato.ix[i,35] == player) ):\n",
    "        side = 1\n",
    "    elif( (dato.ix[i,41] == player) |  (dato.ix[i,47] == player) |  (dato.ix[i,53] == player) |  (dato.ix[i,59] == player) |  (dato.ix[i,65] == player) ):\n",
    "        side = 2\n",
    "    else:\n",
    "        side = 0\n",
    "    return(side)\n",
    "\n",
    "\n",
    "def team_score(player, match):\n",
    "    '''\n",
    "    Returns team scores, enemy scores and team deaths (TD)...\n",
    "    '''\n",
    "    \n",
    "    side = player_side(player, match)\n",
    "    dato = player_data(player).reset_index(drop=True) \n",
    "    i = match\n",
    "    if(side == 1):\n",
    "        teamscore = dato.ix[match,6] +dato.ix[match,8]\n",
    "        enemyscore = dato.ix[match,7] + dato.ix[match,9]\n",
    "        TK = (dato.ix[i,12]) + (dato.ix[i,18])+  (dato.ix[i,24])+(dato.ix[i,30])+ (dato.ix[i,36])\n",
    "        TD = (dato.ix[i,13] == player) + (dato.ix[i,19])+  (dato.ix[i,25])+(dato.ix[i,31])+ (dato.ix[i,37])\n",
    "        \n",
    "    elif(side ==2 ):\n",
    "        teamscore = dato.ix[match,7] +dato.ix[match,9]\n",
    "        enemyscore = dato.ix[match,6] +dato.ix[match,8]\n",
    "        TK = dato.ix[i,42] + (dato.ix[i,48])+  (dato.ix[i,54])+(dato.ix[i,60] )+ (dato.ix[i,66])\n",
    "        TD = dato.ix[i,43]+ (dato.ix[i,19])+  (dato.ix[i,55])+(dato.ix[i,61] )+ (dato.ix[i,67])\n",
    "        \n",
    "    else:\n",
    "        teamscore = \"ERROR\"\n",
    "        enemyscore = \"UNLUGGY UCE\"\n",
    "        \n",
    "        \n",
    "    return( teamscore, enemyscore, TK, TD)\n",
    "\n"
   ]
  },
  {
   "cell_type": "code",
   "execution_count": 5,
   "metadata": {
    "collapsed": false
   },
   "outputs": [
    {
     "name": "stdout",
     "output_type": "stream",
     "text": [
      "team score is: 16\n",
      "enemy score is: 11\n",
      "team kills are: 104.0\n",
      "team deaths are: 86.0\n"
     ]
    }
   ],
   "source": [
    "TS, ES, tk, td = team_score('GeT_RiGhT', 3)\n",
    "\n",
    "print('team score is:', TS )\n",
    "print('enemy score is:', ES )\n",
    "print('team kills are:', tk )\n",
    "print('team deaths are:', td)\n"
   ]
  },
  {
   "cell_type": "code",
   "execution_count": 79,
   "metadata": {
    "collapsed": false
   },
   "outputs": [
    {
     "data": {
      "text/plain": [
       "70"
      ]
     },
     "execution_count": 79,
     "metadata": {},
     "output_type": "execute_result"
    }
   ],
   "source": [
    "\n",
    "np.sum(dat.ix[0,([12,18,24,30])])"
   ]
  },
  {
   "cell_type": "code",
   "execution_count": 6,
   "metadata": {
    "collapsed": false
   },
   "outputs": [],
   "source": [
    "'''\n",
    "get_metrics returns the players kills, KDR, teamscore, enemyscore, team kills and enemy kills at specified time...\n",
    "'''\n",
    "def get_metrics(player, match):\n",
    "    TS, ES, tk, td = team_score(player, match)\n",
    "    # get the new player \n",
    "    dato = player_data(player).reset_index(drop=True) \n",
    "    i = match\n",
    "    if( dato.ix[i,11] == player ):\n",
    "        kills = dato.ix[i,12]\n",
    "        deaths = dato.ix[i,13]\n",
    "        kd = dato.ix[i,12]/dato.ix[i,13]    \n",
    "    elif( dato.ix[i,17] == player ):\n",
    "        kills = dato.ix[i,18]\n",
    "        deaths = dato.ix[i,19]\n",
    "        kd = dato.ix[i,18]/dato.ix[i,19]\n",
    "    elif( dato.ix[i,23] == player ):\n",
    "        kills = dato.ix[i,24]    \n",
    "        deaths = dato.ix[i,25]\n",
    "        kd = dato.ix[i,24]/dato.ix[i,25]\n",
    "    elif( dato.ix[i,29] == player ):\n",
    "        kills = dato.ix[i,30]  \n",
    "        deaths = dato.ix[i,31]\n",
    "        kd = dato.ix[i,30]/dato.ix[i,31]\n",
    "    elif( dato.ix[i,35] == player ):\n",
    "        kills = dato.ix[i,36]\n",
    "        deaths = dato.ix[i,37]\n",
    "        kd = dato.ix[i,36]/dato.ix[i,37]\n",
    "    elif( dato.ix[i,41] == player ):\n",
    "        kills = dato.ix[i,42]    \n",
    "        deaths = dato.ix[i,43]\n",
    "        kd = dato.ix[i,42]/dato.ix[i,43]\n",
    "    elif( dato.ix[i,47] == player ):\n",
    "        kills = dato.ix[i,48]       \n",
    "        deaths = dato.ix[i,49]\n",
    "        kd = dato.ix[i,48]/dato.ix[i,49]\n",
    "    elif( dato.ix[i,53] == player ):\n",
    "        kills = dato.ix[i,54]      \n",
    "        deaths = dato.ix[i,55]\n",
    "        kd = dato.ix[i,54]/dato.ix[i,55]\n",
    "    elif( dato.ix[i,59] == player ):\n",
    "        kills = dato.ix[i,60] \n",
    "        deaths = dato.ix[i,61]\n",
    "        kd = dato.ix[i,60]/dato.ix[i,61]\n",
    "    elif( dato.ix[i,65] == player ):\n",
    "        kills = dato.ix[i,66] \n",
    "        deaths = dato.ix[i,67]\n",
    "        kd = dato.ix[i,66]/dato.ix[i,67]        \n",
    "     \n",
    "    k_TK = kills / tk\n",
    "    kDR_A = kd / (np.log(1+TS)*(TS - ES+1))\n",
    "    \n",
    "    return(kills, deaths, kd, TS, ES, tk ,td, k_TK, kDR_A)            \n",
    "                \n",
    "'''\n",
    "Now make function that makes CSV/df for the player and their past performance...\n",
    "'''   \n",
    "\n",
    "def make_inputs(player): # uses the player and gets all inputs from this...\n",
    "    datta = player_data(player).reset_index(drop=True) \n",
    "    N = np.shape(datta)[0] # length of the data frame...\n",
    "    \n",
    "    # initialize the vectors...\n",
    "    kill = []\n",
    "    kdr = []\n",
    "    scorediff = []\n",
    "    kill_cont = [] # contribution of kills\n",
    "    death_cont = [] # contriubution of deaths\n",
    "    kdr_adjust = []\n",
    "    \n",
    "    print(N)\n",
    "    \n",
    "    # loop over each row to get data:\n",
    "    for row in range(N):\n",
    "        k,d,KDR, TS,ES,tk,td,k_TK,kDR_A = get_metrics('GeT_RiGhT', row)\n",
    "        kill.append(k)\n",
    "        kdr.append(KDR)\n",
    "        scorediff.append(TS-ES)\n",
    "        kill_cont.append(k_TK)\n",
    "        death_cont.append(d/td)\n",
    "        kdr_adjust.append(kDR_A)\n",
    "        \n",
    "        \n",
    "    # add all as columns to the dataframe...    \n",
    "    newdat = pd.DataFrame([kill,kdr,scorediff,kill_cont, death_cont, kdr_adjust])\n",
    "    \n",
    "    # but data is a tensor - so turn into tensor\n",
    "    \n",
    "    return(newdat)"
   ]
  },
  {
   "cell_type": "code",
   "execution_count": 12,
   "metadata": {
    "collapsed": false
   },
   "outputs": [
    {
     "name": "stdout",
     "output_type": "stream",
     "text": [
      "277\n"
     ]
    }
   ],
   "source": [
    "frame =make_inputs('fnx') # save as \"frame\" to use in function later - although will really call this from inside the function for \n",
    "# get_tensor"
   ]
  },
  {
   "cell_type": "markdown",
   "metadata": {},
   "source": [
    "## TENSORRRRRRRRRRZZZZZZZZZZZZZ\n",
    "\n",
    "*Le` Tensor* construction. Imagine a matrix, now imagine a stack of matrices for each input sample - we also make sure to zero-pad the input matrices, this way we have conformable arrays when implementing the recurrent net\n"
   ]
  },
  {
   "cell_type": "code",
   "execution_count": 186,
   "metadata": {
    "collapsed": false
   },
   "outputs": [],
   "source": [
    "def get_tensor(dataframe, n ):\n",
    "        # dataframe is the one resulting from newdat in \"make_inputs\"\n",
    "        df = np.array(dataframe)\n",
    "        #KK = np.reshape(df,(1,np.shape(df)[1],np.shape(df)[0]) )\n",
    "        KK\n",
    "        # Now make each sample and add it to the final dimension of the tensor...\n",
    "        # window \n",
    "        KK[1] =  KK[0]# this is the sample one...\n",
    "        \n",
    "        \n",
    "        return(np.shape(KK))"
   ]
  },
  {
   "cell_type": "markdown",
   "metadata": {},
   "source": [
    "**Below needs to be turned into a function - currently just testing that the data goes into the 3 dimensional array correctly...**"
   ]
  },
  {
   "cell_type": "code",
   "execution_count": 59,
   "metadata": {
    "collapsed": false
   },
   "outputs": [],
   "source": [
    "# manually defining N T and K although they will be decided by the data we are using from \"make_inputs\"\n",
    "N = np.shape(frame)[1]\n",
    "T = N # full sized time window...\n",
    "K = 6\n",
    "#\n",
    "tens = np.zeros((N,T,K)) # iniitalizes tensor shape... (From a given 'N', and known 'T' and 'K')\n",
    "#tens[0] = np.random.randn(T,K) # this is the dataframe at first sample...\n",
    "\n",
    "'''\n",
    "basically need to generate a new dataframe for each 'N'...\n",
    "N is given by the number of time steps as well - as T\n",
    "...\n",
    "each dataframe is a TxK array of zeros (using np.zeros)\n",
    "\n",
    "'''\n",
    "\n",
    "# loop over each N:\n",
    "#i =  # for the 5th one...\n",
    "for i in range(N):\n",
    "#if True == True: # comment this out for testing...\n",
    "    # generate dataframe of zeros\n",
    "    df = np.zeros((T,K)) # this is of size T by K...\n",
    "    \n",
    "    # add for the first one...\n",
    "    df[0] = frame.ix[:,N-1] # since frame is a pandas dataframe... (from make_inputs command...)\n",
    "    \n",
    "    for j in range(1,N-i):\n",
    "        df[j] = frame.ix[:,N-i-j] # since frame is a pandas dataframe... (from make_inputs command...)\n",
    "        \n",
    "    tens[i] = df # adds to the tensor...\n"
   ]
  },
  {
   "cell_type": "markdown",
   "metadata": {},
   "source": [
    "The following cells visualise how the new tensor appears and how the the original data frame looks - there are still a few patches that need fixing..."
   ]
  },
  {
   "cell_type": "code",
   "execution_count": 58,
   "metadata": {
    "collapsed": false
   },
   "outputs": [
    {
     "name": "stdout",
     "output_type": "stream",
     "text": [
      "[[ 20.           1.42857143  -7.           0.21052632   0.18421053\n",
      "   -0.10340345]\n",
      " [ 20.           1.42857143  -7.           0.21052632   0.18421053\n",
      "   -0.10340345]\n",
      " [ 15.           0.78947368  12.           0.21126761   0.21590909\n",
      "    0.02143458]\n",
      " ..., \n",
      " [ 19.           1.1875       5.           0.18269231   0.18604651\n",
      "    0.0698559 ]\n",
      " [ 20.           1.11111111  -7.           0.3030303    0.225       -0.0804249 ]\n",
      " [ 15.           0.83333333   4.           0.15957447   0.24657534\n",
      "    0.05882602]]\n"
     ]
    }
   ],
   "source": [
    "print(tens[0])"
   ]
  },
  {
   "cell_type": "code",
   "execution_count": 57,
   "metadata": {
    "collapsed": false
   },
   "outputs": [
    {
     "name": "stdout",
     "output_type": "stream",
     "text": [
      "         0          1          2          3          4          5    \\\n",
      "0  21.000000  15.000000  20.000000  19.000000  23.000000  23.000000   \n",
      "1   1.166667   0.833333   1.111111   1.187500   1.352941   0.958333   \n",
      "2  -4.000000   4.000000  -7.000000   5.000000   5.000000   0.000000   \n",
      "3   0.238636   0.159574   0.303030   0.182692   0.232323   0.186992   \n",
      "4   0.193548   0.246575   0.225000   0.186047   0.195402   0.258065   \n",
      "5  -0.151617   0.058826  -0.080425   0.069856   0.079588   0.345646   \n",
      "\n",
      "         6          7          8          9      ...            267       268  \\\n",
      "0  25.000000  30.000000  17.000000  14.000000    ...      10.000000  6.000000   \n",
      "1   3.571429   3.333333   0.850000   0.823529    ...       0.526316  0.272727   \n",
      "2  11.000000   9.000000  -5.000000  -9.000000    ...     -11.000000 -9.000000   \n",
      "3   0.280899   0.312500   0.202381   0.202899    ...       0.172414  0.093750   \n",
      "4   0.159091   0.121622   0.246914   0.193182    ...       0.256757  0.229167   \n",
      "5   0.105046   0.117652  -0.085516  -0.049504    ...      -0.029374 -0.016394   \n",
      "\n",
      "         269        270        271        272        273        274  \\\n",
      "0  19.000000  17.000000  15.000000  17.000000  14.000000  15.000000   \n",
      "1   0.904762   1.062500   0.750000   0.894737   2.333333   1.666667   \n",
      "2  -6.000000  -6.000000 -12.000000   3.000000   3.000000  12.000000   \n",
      "3   0.253333   0.346939   0.192308   0.158879   0.168675   0.176471   \n",
      "4   0.265823   0.216216   0.266667   0.220930   0.206897   0.169811   \n",
      "5  -0.075463  -0.088619  -0.042364   0.078951   0.205891   0.045251   \n",
      "\n",
      "         275        276  \n",
      "0  15.000000  20.000000  \n",
      "1   0.789474   1.428571  \n",
      "2  12.000000  -7.000000  \n",
      "3   0.211268   0.210526  \n",
      "4   0.215909   0.184211  \n",
      "5   0.021435  -0.103403  \n",
      "\n",
      "[6 rows x 277 columns]\n"
     ]
    }
   ],
   "source": [
    "print(frame)"
   ]
  },
  {
   "cell_type": "code",
   "execution_count": 203,
   "metadata": {
    "collapsed": false
   },
   "outputs": [
    {
     "name": "stdout",
     "output_type": "stream",
     "text": [
      "(2, 1)\n",
      "[[[1, 2], [1, 2]]]\n"
     ]
    }
   ],
   "source": [
    "#n = 1 # number of samples...\n",
    "#df = np.array(df)\n",
    "#KK = np.reshape(df,(n,np.shape(df)[1],np.shape(df)[0]) )\n",
    "#np.shape(KK)\n",
    "J = [[[[1,2],[1,2]]],[[[1,2]]]]\n",
    "J[0]\n",
    "print(np.shape(J))\n",
    "#get_tensor(df,2)\n",
    "print(J[0])\n",
    "#print(KK[0][0])"
   ]
  },
  {
   "cell_type": "code",
   "execution_count": 138,
   "metadata": {
    "collapsed": false
   },
   "outputs": [
    {
     "name": "stdout",
     "output_type": "stream",
     "text": [
      "537\n"
     ]
    }
   ],
   "source": [
    "#np.shape((player_data('GeT_RiGhT').reset_index(drop=True) ))[0]\n",
    "df = make_inputs('GeT_RiGhT')\n",
    "df.to_csv('getright data.csv') # save this to csv"
   ]
  },
  {
   "cell_type": "code",
   "execution_count": 139,
   "metadata": {
    "collapsed": false
   },
   "outputs": [],
   "source": [
    "def get_targ(data_piece):\n",
    "    '''\n",
    "    This code splits the data series into a target and remaining inputs \n",
    "    '''\n",
    "    \n",
    "\n",
    "\n"
   ]
  },
  {
   "cell_type": "code",
   "execution_count": 74,
   "metadata": {
    "collapsed": false
   },
   "outputs": [],
   "source": [
    "# win ratio metric:\n",
    "\n",
    "def win_ratio(team):\n",
    "    # get team data...\n",
    "    dato = team_data(team).reset_index(drop=True)\n",
    "    #print('The subset data length is:', len(dato))\n",
    "    # then iterate over every row:\n",
    "    WL = []\n",
    "    #print(np.shape(data)[0])\n",
    "    for row in range(len(dato)):\n",
    "        # print(dat.ix[row,5])    # this here jsut for testing...\n",
    "        if (dato.ix[row,5]) == team : # this is if they are the winning team - name is in the winning team col...\n",
    "            WL.append(1)\n",
    "            \n",
    "        else:\n",
    "            WL.append(0)\n",
    "            \n",
    "    #return(WL)\n",
    "    return(np.sum(WL)/len(WL), np.std(WL)) # this is the Win ratio metric... and variance (STD)\n",
    "    "
   ]
  },
  {
   "cell_type": "code",
   "execution_count": 77,
   "metadata": {
    "collapsed": false
   },
   "outputs": [
    {
     "data": {
      "text/plain": [
       "(0.60546875, 0.48874977521574114)"
      ]
     },
     "execution_count": 77,
     "metadata": {},
     "output_type": "execute_result"
    }
   ],
   "source": [
    "win_ratio('EnVyUs') # returns mean and stdev"
   ]
  },
  {
   "cell_type": "code",
   "execution_count": 96,
   "metadata": {
    "collapsed": true
   },
   "outputs": [],
   "source": [
    "# compile a lookup table of each team - unique team ID and team name...\n",
    "\n",
    "def table():\n",
    "    '''\n",
    "    This defines the total unique teams and their idx numbers...\n",
    "    '''\n",
    "    # total teams\n",
    "    teams = pd.concat([dat.ix[:,3],dat.ix[:,4]])\n",
    "    teams= teams.reset_index(drop=True)\n",
    "    teams = pd.DataFrame(pd.unique(teams))\n",
    "    print(teams)"
   ]
  },
  {
   "cell_type": "code",
   "execution_count": 97,
   "metadata": {
    "collapsed": false
   },
   "outputs": [
    {
     "name": "stdout",
     "output_type": "stream",
     "text": [
      "                      0\n",
      "0                sylloM\n",
      "1          Epsilon Hype\n",
      "2             Fragsport\n",
      "3       ALTERNATE aTTaX\n",
      "4                  LDLC\n",
      "5              NiceShot\n",
      "6                  ENCE\n",
      "7               Epsilon\n",
      "8                fnatic\n",
      "9                    SK\n",
      "10          Preparation\n",
      "11                   G2\n",
      "12         dream[S]cape\n",
      "13        Natus Vincere\n",
      "14              B.O.O.T\n",
      "15             dignitas\n",
      "16          AVANT GARDE\n",
      "17                  NiP\n",
      "18            Athletico\n",
      "19                 New4\n",
      "20          HellRaisers\n",
      "21          VG.CyberZen\n",
      "22              onestop\n",
      "23               Exile5\n",
      "24           Virtus.pro\n",
      "25                TyLoo\n",
      "26            iGame.com\n",
      "27             FlipSid3\n",
      "28                 k1ck\n",
      "29            Immortals\n",
      "...                 ...\n",
      "1331     kRoGhs KanonEr\n",
      "1332           MIXERINO\n",
      "1333            madjicK\n",
      "1334   Eternal Conflict\n",
      "1335       The Flying V\n",
      "1336          Deponeret\n",
      "1337            Vikings\n",
      "1338            DEMGUNZ\n",
      "1339   kassad's Legends\n",
      "1340               WiLD\n",
      "1341           ZajebaNi\n",
      "1342       Clutchit.org\n",
      "1343    Hitbox.tv Staff\n",
      "1344  Russian eSF Staff\n",
      "1345       ProGaming.TD\n",
      "1346            Katrina\n",
      "1347            UNNAMED\n",
      "1348              Faith\n",
      "1349       fAlsu's team\n",
      "1350          GL SHAKER\n",
      "1351           GGWP.pro\n",
      "1352     Cyborg Factory\n",
      "1353           Outbreak\n",
      "1354              ZYLEX\n",
      "1355              fusd0\n",
      "1356            EZpeezy\n",
      "1357             Armata\n",
      "1358              Cytik\n",
      "1359          Imaginary\n",
      "1360      Faroe Islands\n",
      "\n",
      "[1361 rows x 1 columns]\n"
     ]
    }
   ],
   "source": [
    "table()"
   ]
  },
  {
   "cell_type": "code",
   "execution_count": null,
   "metadata": {
    "collapsed": true
   },
   "outputs": [],
   "source": []
  }
 ],
 "metadata": {
  "anaconda-cloud": {},
  "kernelspec": {
   "display_name": "Python [Root]",
   "language": "python",
   "name": "Python [Root]"
  },
  "language_info": {
   "codemirror_mode": {
    "name": "ipython",
    "version": 3
   },
   "file_extension": ".py",
   "mimetype": "text/x-python",
   "name": "python",
   "nbconvert_exporter": "python",
   "pygments_lexer": "ipython3",
   "version": "3.5.2"
  }
 },
 "nbformat": 4,
 "nbformat_minor": 0
}
